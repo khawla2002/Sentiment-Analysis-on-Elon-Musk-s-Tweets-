{
 "cells": [
  {
   "cell_type": "markdown",
   "id": "acd0824c-d167-4a86-963e-6930e20ebe28",
   "metadata": {},
   "source": [
    "# <center>Use of Sentiment Analysis on Elon Musk’s Tweets to Predict Tesla’s Stock Movement</center>\n",
    "<center> Authors: </center>\n",
    "<center> Khawla Bounouh 3137274 </center>\n"
   ]
  },
  {
   "cell_type": "markdown",
   "id": "b8057035-fa2b-4a10-9d17-b26e44e3b55b",
   "metadata": {},
   "source": [
    "."
   ]
  },
  {
   "cell_type": "markdown",
   "id": "2618ab64-1f9e-4af0-baa8-2051f153d9db",
   "metadata": {},
   "source": [
    "### Data Pre-Processing \n",
    "In this project we will use a dataset that provides a collection of tweets posted by Elon Musk over a definite period of time, specifically capturing Elon Musk’s thoughts, announcements, and interactions related to Tesla and other topics of interest. Each tweet in the dataset includes information such as the tweet ID, tweet content and the date and time in which the tweet was posted.\n",
    "It was obtained by using the Twitter API, which allows access to public tweets based on specific search criteria.\n",
    "In order to perfom our sentiment analysis and try to predict stock market movements, we will have to pre-process our data by following a few steps like feature selection, data cleaning etc. We do this in the goal of increasing accruacy of our results and facilitating any potential computation.\n",
    "\n",
    "We start by importing the relevant libraries and read the dataset:"
   ]
  },
  {
   "cell_type": "code",
   "execution_count": 154,
   "id": "81863767-ac24-47f0-9d9d-6c44351f93a4",
   "metadata": {},
   "outputs": [],
   "source": [
    "import sklearn\n",
    "import pandas as pd\n",
    "import numpy as np\n",
    "import re"
   ]
  },
  {
   "cell_type": "markdown",
   "id": "5d33ceda-9705-4e6e-8a49-1f4796b902c5",
   "metadata": {},
   "source": [
    "Read the dataset print its size."
   ]
  },
  {
   "cell_type": "code",
   "execution_count": 155,
   "id": "aa6cfc9f-f3b1-42dc-87aa-96c64c1cc25c",
   "metadata": {},
   "outputs": [
    {
     "name": "stdout",
     "output_type": "stream",
     "text": [
      "Dataframe dimensions: (1782, 3)\n"
     ]
    }
   ],
   "source": [
    "Metadata = pd.read_csv('elon_tweets.csv')\n",
    "print(\"Dataframe dimensions:\", np.shape(Metadata))\n"
   ]
  },
  {
   "cell_type": "code",
   "execution_count": 156,
   "id": "0ab4856f-6bbd-41d4-8f56-1f58f0ce0791",
   "metadata": {},
   "outputs": [
    {
     "data": {
      "text/html": [
       "<div>\n",
       "<style scoped>\n",
       "    .dataframe tbody tr th:only-of-type {\n",
       "        vertical-align: middle;\n",
       "    }\n",
       "\n",
       "    .dataframe tbody tr th {\n",
       "        vertical-align: top;\n",
       "    }\n",
       "\n",
       "    .dataframe thead th {\n",
       "        text-align: right;\n",
       "    }\n",
       "</style>\n",
       "<table border=\"1\" class=\"dataframe\">\n",
       "  <thead>\n",
       "    <tr style=\"text-align: right;\">\n",
       "      <th></th>\n",
       "      <th>id</th>\n",
       "      <th>created_at</th>\n",
       "      <th>text</th>\n",
       "    </tr>\n",
       "  </thead>\n",
       "  <tbody>\n",
       "    <tr>\n",
       "      <th>0</th>\n",
       "      <td>1513288055146225671</td>\n",
       "      <td>2022-04-10T22:49:22.000Z</td>\n",
       "      <td>@JeffBezos Great idea</td>\n",
       "    </tr>\n",
       "    <tr>\n",
       "      <th>1</th>\n",
       "      <td>1513283265318191106</td>\n",
       "      <td>2022-04-10T22:30:20.000Z</td>\n",
       "      <td>@BLKMDL3 Coming soon</td>\n",
       "    </tr>\n",
       "    <tr>\n",
       "      <th>2</th>\n",
       "      <td>1513233496893915138</td>\n",
       "      <td>2022-04-10T19:12:34.000Z</td>\n",
       "      <td>@tesla_raj Exciting times ahead</td>\n",
       "    </tr>\n",
       "    <tr>\n",
       "      <th>3</th>\n",
       "      <td>1513200041518768133</td>\n",
       "      <td>2022-04-10T16:59:38.000Z</td>\n",
       "      <td>@pmarca Disconnected from what it takes to mak...</td>\n",
       "    </tr>\n",
       "    <tr>\n",
       "      <th>4</th>\n",
       "      <td>1513199588454264832</td>\n",
       "      <td>2022-04-10T16:57:50.000Z</td>\n",
       "      <td>@teslaownersSV I’m serious about this one btw</td>\n",
       "    </tr>\n",
       "    <tr>\n",
       "      <th>5</th>\n",
       "      <td>1512974273606045702</td>\n",
       "      <td>2022-04-10T02:02:31.000Z</td>\n",
       "      <td>@sweatystartup Exactly</td>\n",
       "    </tr>\n",
       "    <tr>\n",
       "      <th>6</th>\n",
       "      <td>1512964005060657156</td>\n",
       "      <td>2022-04-10T01:21:42.000Z</td>\n",
       "      <td>@PPathole Price should probably be ~$2/month, ...</td>\n",
       "    </tr>\n",
       "    <tr>\n",
       "      <th>7</th>\n",
       "      <td>1512958155508043782</td>\n",
       "      <td>2022-04-10T00:58:28.000Z</td>\n",
       "      <td>@PPathole It should go away or scammers will g...</td>\n",
       "    </tr>\n",
       "    <tr>\n",
       "      <th>8</th>\n",
       "      <td>1512954808394731521</td>\n",
       "      <td>2022-04-10T00:45:10.000Z</td>\n",
       "      <td>@GonzaAbalos Maybe even an option to pay in Doge?</td>\n",
       "    </tr>\n",
       "    <tr>\n",
       "      <th>9</th>\n",
       "      <td>1512951272437174279</td>\n",
       "      <td>2022-04-10T00:31:07.000Z</td>\n",
       "      <td>@GonzaAbalos Yes, should be proportionate to a...</td>\n",
       "    </tr>\n",
       "  </tbody>\n",
       "</table>\n",
       "</div>"
      ],
      "text/plain": [
       "                    id                created_at  \\\n",
       "0  1513288055146225671  2022-04-10T22:49:22.000Z   \n",
       "1  1513283265318191106  2022-04-10T22:30:20.000Z   \n",
       "2  1513233496893915138  2022-04-10T19:12:34.000Z   \n",
       "3  1513200041518768133  2022-04-10T16:59:38.000Z   \n",
       "4  1513199588454264832  2022-04-10T16:57:50.000Z   \n",
       "5  1512974273606045702  2022-04-10T02:02:31.000Z   \n",
       "6  1512964005060657156  2022-04-10T01:21:42.000Z   \n",
       "7  1512958155508043782  2022-04-10T00:58:28.000Z   \n",
       "8  1512954808394731521  2022-04-10T00:45:10.000Z   \n",
       "9  1512951272437174279  2022-04-10T00:31:07.000Z   \n",
       "\n",
       "                                                text  \n",
       "0                              @JeffBezos Great idea  \n",
       "1                               @BLKMDL3 Coming soon  \n",
       "2                    @tesla_raj Exciting times ahead  \n",
       "3  @pmarca Disconnected from what it takes to mak...  \n",
       "4      @teslaownersSV I’m serious about this one btw  \n",
       "5                             @sweatystartup Exactly  \n",
       "6  @PPathole Price should probably be ~$2/month, ...  \n",
       "7  @PPathole It should go away or scammers will g...  \n",
       "8  @GonzaAbalos Maybe even an option to pay in Doge?  \n",
       "9  @GonzaAbalos Yes, should be proportionate to a...  "
      ]
     },
     "execution_count": 156,
     "metadata": {},
     "output_type": "execute_result"
    }
   ],
   "source": [
    "Metadata.head(10)"
   ]
  },
  {
   "cell_type": "markdown",
   "id": "d09e9d8f-33e6-47ee-a7ba-077ff66d7b61",
   "metadata": {},
   "source": [
    "We start the pre-processing of our data:\n",
    "First, we remove any special characters, such as punctuation marks, emojis, and symbols,that often carry little to no meaning in sentiment analysis. Removing them helps reduce noise and focuses on the relevant text content."
   ]
  },
  {
   "cell_type": "code",
   "execution_count": 157,
   "id": "4e572dba-eda4-4b45-a052-52deecc4c503",
   "metadata": {},
   "outputs": [
    {
     "data": {
      "text/html": [
       "<div>\n",
       "<style scoped>\n",
       "    .dataframe tbody tr th:only-of-type {\n",
       "        vertical-align: middle;\n",
       "    }\n",
       "\n",
       "    .dataframe tbody tr th {\n",
       "        vertical-align: top;\n",
       "    }\n",
       "\n",
       "    .dataframe thead th {\n",
       "        text-align: right;\n",
       "    }\n",
       "</style>\n",
       "<table border=\"1\" class=\"dataframe\">\n",
       "  <thead>\n",
       "    <tr style=\"text-align: right;\">\n",
       "      <th></th>\n",
       "      <th>id</th>\n",
       "      <th>created_at</th>\n",
       "      <th>text</th>\n",
       "    </tr>\n",
       "  </thead>\n",
       "  <tbody>\n",
       "    <tr>\n",
       "      <th>0</th>\n",
       "      <td>1513288055146225671</td>\n",
       "      <td>2022-04-10T22:49:22.000Z</td>\n",
       "      <td>JeffBezos Great idea</td>\n",
       "    </tr>\n",
       "    <tr>\n",
       "      <th>1</th>\n",
       "      <td>1513283265318191106</td>\n",
       "      <td>2022-04-10T22:30:20.000Z</td>\n",
       "      <td>BLKMDL3 Coming soon</td>\n",
       "    </tr>\n",
       "    <tr>\n",
       "      <th>2</th>\n",
       "      <td>1513233496893915138</td>\n",
       "      <td>2022-04-10T19:12:34.000Z</td>\n",
       "      <td>teslaraj Exciting times ahead</td>\n",
       "    </tr>\n",
       "    <tr>\n",
       "      <th>3</th>\n",
       "      <td>1513200041518768133</td>\n",
       "      <td>2022-04-10T16:59:38.000Z</td>\n",
       "      <td>pmarca Disconnected from what it takes to make...</td>\n",
       "    </tr>\n",
       "    <tr>\n",
       "      <th>4</th>\n",
       "      <td>1513199588454264832</td>\n",
       "      <td>2022-04-10T16:57:50.000Z</td>\n",
       "      <td>teslaownersSV Im serious about this one btw</td>\n",
       "    </tr>\n",
       "    <tr>\n",
       "      <th>5</th>\n",
       "      <td>1512974273606045702</td>\n",
       "      <td>2022-04-10T02:02:31.000Z</td>\n",
       "      <td>sweatystartup Exactly</td>\n",
       "    </tr>\n",
       "    <tr>\n",
       "      <th>6</th>\n",
       "      <td>1512964005060657156</td>\n",
       "      <td>2022-04-10T01:21:42.000Z</td>\n",
       "      <td>PPathole Price should probably be 2month but p...</td>\n",
       "    </tr>\n",
       "    <tr>\n",
       "      <th>7</th>\n",
       "      <td>1512958155508043782</td>\n",
       "      <td>2022-04-10T00:58:28.000Z</td>\n",
       "      <td>PPathole It should go away or scammers will ga...</td>\n",
       "    </tr>\n",
       "    <tr>\n",
       "      <th>8</th>\n",
       "      <td>1512954808394731521</td>\n",
       "      <td>2022-04-10T00:45:10.000Z</td>\n",
       "      <td>GonzaAbalos Maybe even an option to pay in Doge</td>\n",
       "    </tr>\n",
       "    <tr>\n",
       "      <th>9</th>\n",
       "      <td>1512951272437174279</td>\n",
       "      <td>2022-04-10T00:31:07.000Z</td>\n",
       "      <td>GonzaAbalos Yes should be proportionate to aff...</td>\n",
       "    </tr>\n",
       "  </tbody>\n",
       "</table>\n",
       "</div>"
      ],
      "text/plain": [
       "                    id                created_at  \\\n",
       "0  1513288055146225671  2022-04-10T22:49:22.000Z   \n",
       "1  1513283265318191106  2022-04-10T22:30:20.000Z   \n",
       "2  1513233496893915138  2022-04-10T19:12:34.000Z   \n",
       "3  1513200041518768133  2022-04-10T16:59:38.000Z   \n",
       "4  1513199588454264832  2022-04-10T16:57:50.000Z   \n",
       "5  1512974273606045702  2022-04-10T02:02:31.000Z   \n",
       "6  1512964005060657156  2022-04-10T01:21:42.000Z   \n",
       "7  1512958155508043782  2022-04-10T00:58:28.000Z   \n",
       "8  1512954808394731521  2022-04-10T00:45:10.000Z   \n",
       "9  1512951272437174279  2022-04-10T00:31:07.000Z   \n",
       "\n",
       "                                                text  \n",
       "0                               JeffBezos Great idea  \n",
       "1                                BLKMDL3 Coming soon  \n",
       "2                      teslaraj Exciting times ahead  \n",
       "3  pmarca Disconnected from what it takes to make...  \n",
       "4        teslaownersSV Im serious about this one btw  \n",
       "5                              sweatystartup Exactly  \n",
       "6  PPathole Price should probably be 2month but p...  \n",
       "7  PPathole It should go away or scammers will ga...  \n",
       "8    GonzaAbalos Maybe even an option to pay in Doge  \n",
       "9  GonzaAbalos Yes should be proportionate to aff...  "
      ]
     },
     "execution_count": 157,
     "metadata": {},
     "output_type": "execute_result"
    }
   ],
   "source": [
    "def remove_special_characters(text):\n",
    "    processed_text = re.sub(r\"[^a-zA-Z0-9\\s]\", \"\", text)\n",
    "    return processed_text\n",
    "df = Metadata[['text']]\n",
    "Metadata['text'] = Metadata['text'].apply(remove_special_characters)\n",
    "Metadata.head(10)\n",
    "\n"
   ]
  },
  {
   "cell_type": "markdown",
   "id": "c9c8a780-3baf-4c84-9c91-6815a97f7d06",
   "metadata": {},
   "source": [
    "Then, we put the tweet texts into lowercase, this helps in reducing the dimensionality of the data and avoids treating the same word differently based on its capitalization."
   ]
  },
  {
   "cell_type": "code",
   "execution_count": 158,
   "id": "d129988f-ae38-41e7-9d8c-46f28bef1c0a",
   "metadata": {},
   "outputs": [
    {
     "data": {
      "text/html": [
       "<div>\n",
       "<style scoped>\n",
       "    .dataframe tbody tr th:only-of-type {\n",
       "        vertical-align: middle;\n",
       "    }\n",
       "\n",
       "    .dataframe tbody tr th {\n",
       "        vertical-align: top;\n",
       "    }\n",
       "\n",
       "    .dataframe thead th {\n",
       "        text-align: right;\n",
       "    }\n",
       "</style>\n",
       "<table border=\"1\" class=\"dataframe\">\n",
       "  <thead>\n",
       "    <tr style=\"text-align: right;\">\n",
       "      <th></th>\n",
       "      <th>id</th>\n",
       "      <th>created_at</th>\n",
       "      <th>text</th>\n",
       "    </tr>\n",
       "  </thead>\n",
       "  <tbody>\n",
       "    <tr>\n",
       "      <th>0</th>\n",
       "      <td>1513288055146225671</td>\n",
       "      <td>2022-04-10T22:49:22.000Z</td>\n",
       "      <td>jeffbezos great idea</td>\n",
       "    </tr>\n",
       "    <tr>\n",
       "      <th>1</th>\n",
       "      <td>1513283265318191106</td>\n",
       "      <td>2022-04-10T22:30:20.000Z</td>\n",
       "      <td>blkmdl3 coming soon</td>\n",
       "    </tr>\n",
       "    <tr>\n",
       "      <th>2</th>\n",
       "      <td>1513233496893915138</td>\n",
       "      <td>2022-04-10T19:12:34.000Z</td>\n",
       "      <td>teslaraj exciting times ahead</td>\n",
       "    </tr>\n",
       "    <tr>\n",
       "      <th>3</th>\n",
       "      <td>1513200041518768133</td>\n",
       "      <td>2022-04-10T16:59:38.000Z</td>\n",
       "      <td>pmarca disconnected from what it takes to make...</td>\n",
       "    </tr>\n",
       "    <tr>\n",
       "      <th>4</th>\n",
       "      <td>1513199588454264832</td>\n",
       "      <td>2022-04-10T16:57:50.000Z</td>\n",
       "      <td>teslaownerssv im serious about this one btw</td>\n",
       "    </tr>\n",
       "    <tr>\n",
       "      <th>5</th>\n",
       "      <td>1512974273606045702</td>\n",
       "      <td>2022-04-10T02:02:31.000Z</td>\n",
       "      <td>sweatystartup exactly</td>\n",
       "    </tr>\n",
       "    <tr>\n",
       "      <th>6</th>\n",
       "      <td>1512964005060657156</td>\n",
       "      <td>2022-04-10T01:21:42.000Z</td>\n",
       "      <td>ppathole price should probably be 2month but p...</td>\n",
       "    </tr>\n",
       "    <tr>\n",
       "      <th>7</th>\n",
       "      <td>1512958155508043782</td>\n",
       "      <td>2022-04-10T00:58:28.000Z</td>\n",
       "      <td>ppathole it should go away or scammers will ga...</td>\n",
       "    </tr>\n",
       "    <tr>\n",
       "      <th>8</th>\n",
       "      <td>1512954808394731521</td>\n",
       "      <td>2022-04-10T00:45:10.000Z</td>\n",
       "      <td>gonzaabalos maybe even an option to pay in doge</td>\n",
       "    </tr>\n",
       "    <tr>\n",
       "      <th>9</th>\n",
       "      <td>1512951272437174279</td>\n",
       "      <td>2022-04-10T00:31:07.000Z</td>\n",
       "      <td>gonzaabalos yes should be proportionate to aff...</td>\n",
       "    </tr>\n",
       "  </tbody>\n",
       "</table>\n",
       "</div>"
      ],
      "text/plain": [
       "                    id                created_at  \\\n",
       "0  1513288055146225671  2022-04-10T22:49:22.000Z   \n",
       "1  1513283265318191106  2022-04-10T22:30:20.000Z   \n",
       "2  1513233496893915138  2022-04-10T19:12:34.000Z   \n",
       "3  1513200041518768133  2022-04-10T16:59:38.000Z   \n",
       "4  1513199588454264832  2022-04-10T16:57:50.000Z   \n",
       "5  1512974273606045702  2022-04-10T02:02:31.000Z   \n",
       "6  1512964005060657156  2022-04-10T01:21:42.000Z   \n",
       "7  1512958155508043782  2022-04-10T00:58:28.000Z   \n",
       "8  1512954808394731521  2022-04-10T00:45:10.000Z   \n",
       "9  1512951272437174279  2022-04-10T00:31:07.000Z   \n",
       "\n",
       "                                                text  \n",
       "0                               jeffbezos great idea  \n",
       "1                                blkmdl3 coming soon  \n",
       "2                      teslaraj exciting times ahead  \n",
       "3  pmarca disconnected from what it takes to make...  \n",
       "4        teslaownerssv im serious about this one btw  \n",
       "5                              sweatystartup exactly  \n",
       "6  ppathole price should probably be 2month but p...  \n",
       "7  ppathole it should go away or scammers will ga...  \n",
       "8    gonzaabalos maybe even an option to pay in doge  \n",
       "9  gonzaabalos yes should be proportionate to aff...  "
      ]
     },
     "execution_count": 158,
     "metadata": {},
     "output_type": "execute_result"
    }
   ],
   "source": [
    "Metadata['text'] = Metadata['text'].str.lower()\n",
    "Metadata.head(10)"
   ]
  },
  {
   "cell_type": "markdown",
   "id": "891ab10c-8d9d-42f8-844a-2cdce331f03d",
   "metadata": {},
   "source": [
    "We remove the time portion of the \"created_at\" column and only keep the date of the tweets.\n",
    "This is because we are willing to do a daily analysis, so the time is not important."
   ]
  },
  {
   "cell_type": "code",
   "execution_count": 159,
   "id": "869a69ae-332f-41ce-b28f-f5f5f448c83d",
   "metadata": {},
   "outputs": [
    {
     "data": {
      "text/html": [
       "<div>\n",
       "<style scoped>\n",
       "    .dataframe tbody tr th:only-of-type {\n",
       "        vertical-align: middle;\n",
       "    }\n",
       "\n",
       "    .dataframe tbody tr th {\n",
       "        vertical-align: top;\n",
       "    }\n",
       "\n",
       "    .dataframe thead th {\n",
       "        text-align: right;\n",
       "    }\n",
       "</style>\n",
       "<table border=\"1\" class=\"dataframe\">\n",
       "  <thead>\n",
       "    <tr style=\"text-align: right;\">\n",
       "      <th></th>\n",
       "      <th>id</th>\n",
       "      <th>created_at</th>\n",
       "      <th>text</th>\n",
       "    </tr>\n",
       "  </thead>\n",
       "  <tbody>\n",
       "    <tr>\n",
       "      <th>0</th>\n",
       "      <td>1513288055146225671</td>\n",
       "      <td>2022-04-10</td>\n",
       "      <td>jeffbezos great idea</td>\n",
       "    </tr>\n",
       "    <tr>\n",
       "      <th>1</th>\n",
       "      <td>1513283265318191106</td>\n",
       "      <td>2022-04-10</td>\n",
       "      <td>blkmdl3 coming soon</td>\n",
       "    </tr>\n",
       "    <tr>\n",
       "      <th>2</th>\n",
       "      <td>1513233496893915138</td>\n",
       "      <td>2022-04-10</td>\n",
       "      <td>teslaraj exciting times ahead</td>\n",
       "    </tr>\n",
       "    <tr>\n",
       "      <th>3</th>\n",
       "      <td>1513200041518768133</td>\n",
       "      <td>2022-04-10</td>\n",
       "      <td>pmarca disconnected from what it takes to make...</td>\n",
       "    </tr>\n",
       "    <tr>\n",
       "      <th>4</th>\n",
       "      <td>1513199588454264832</td>\n",
       "      <td>2022-04-10</td>\n",
       "      <td>teslaownerssv im serious about this one btw</td>\n",
       "    </tr>\n",
       "    <tr>\n",
       "      <th>5</th>\n",
       "      <td>1512974273606045702</td>\n",
       "      <td>2022-04-10</td>\n",
       "      <td>sweatystartup exactly</td>\n",
       "    </tr>\n",
       "    <tr>\n",
       "      <th>6</th>\n",
       "      <td>1512964005060657156</td>\n",
       "      <td>2022-04-10</td>\n",
       "      <td>ppathole price should probably be 2month but p...</td>\n",
       "    </tr>\n",
       "    <tr>\n",
       "      <th>7</th>\n",
       "      <td>1512958155508043782</td>\n",
       "      <td>2022-04-10</td>\n",
       "      <td>ppathole it should go away or scammers will ga...</td>\n",
       "    </tr>\n",
       "    <tr>\n",
       "      <th>8</th>\n",
       "      <td>1512954808394731521</td>\n",
       "      <td>2022-04-10</td>\n",
       "      <td>gonzaabalos maybe even an option to pay in doge</td>\n",
       "    </tr>\n",
       "    <tr>\n",
       "      <th>9</th>\n",
       "      <td>1512951272437174279</td>\n",
       "      <td>2022-04-10</td>\n",
       "      <td>gonzaabalos yes should be proportionate to aff...</td>\n",
       "    </tr>\n",
       "  </tbody>\n",
       "</table>\n",
       "</div>"
      ],
      "text/plain": [
       "                    id  created_at  \\\n",
       "0  1513288055146225671  2022-04-10   \n",
       "1  1513283265318191106  2022-04-10   \n",
       "2  1513233496893915138  2022-04-10   \n",
       "3  1513200041518768133  2022-04-10   \n",
       "4  1513199588454264832  2022-04-10   \n",
       "5  1512974273606045702  2022-04-10   \n",
       "6  1512964005060657156  2022-04-10   \n",
       "7  1512958155508043782  2022-04-10   \n",
       "8  1512954808394731521  2022-04-10   \n",
       "9  1512951272437174279  2022-04-10   \n",
       "\n",
       "                                                text  \n",
       "0                               jeffbezos great idea  \n",
       "1                                blkmdl3 coming soon  \n",
       "2                      teslaraj exciting times ahead  \n",
       "3  pmarca disconnected from what it takes to make...  \n",
       "4        teslaownerssv im serious about this one btw  \n",
       "5                              sweatystartup exactly  \n",
       "6  ppathole price should probably be 2month but p...  \n",
       "7  ppathole it should go away or scammers will ga...  \n",
       "8    gonzaabalos maybe even an option to pay in doge  \n",
       "9  gonzaabalos yes should be proportionate to aff...  "
      ]
     },
     "execution_count": 159,
     "metadata": {},
     "output_type": "execute_result"
    }
   ],
   "source": [
    "Metadata['created_at'] = pd.to_datetime(Metadata['created_at'])\n",
    "Metadata['created_at'] = Metadata['created_at'].dt.date\n",
    "Metadata.head(10)\n"
   ]
  },
  {
   "cell_type": "markdown",
   "id": "712b5523-30b5-4e80-91fd-f3bf4eb2a531",
   "metadata": {},
   "source": [
    "We noticed that there many tweets that were posted during the same day, hence we decided to group the tweets by date and combine them using a specified separator."
   ]
  },
  {
   "cell_type": "code",
   "execution_count": 160,
   "id": "34fd76ce-7725-4c0e-8acd-d515bf2dbb06",
   "metadata": {},
   "outputs": [
    {
     "name": "stdout",
     "output_type": "stream",
     "text": [
      "    created_at                                               text\n",
      "0   2022-04-03  berlin rocks\\nerdayastronaut tesla raptor pump...\n",
      "1   2022-04-04  hausmank googleai staggeringly unfunny\\nwholem...\n",
      "2   2022-04-05  pmarca skepticaliblog yikes\\npmarca wapo alway...\n",
      "3   2022-04-06  remedygames great games\\nstockmktnewz no sale ...\n",
      "4   2022-04-07  rt netflixfilm return to space\\non netflix apr...\n",
      "..         ...                                                ...\n",
      "115 2022-09-11  cbdoge paraga sigh\\nfsd beta 10692 rolling out...\n",
      "116 2022-09-12  the residual value of gasoline cars bought tod...\n",
      "117 2022-09-13  huobiglobal subtle \\nhuobiglobal \\nnote we are...\n",
      "118 2022-09-14  salted butter is amazing but should be stored ...\n",
      "119 2022-09-15  ilyasut or their short shorts httpstcoek4xby92...\n",
      "\n",
      "[120 rows x 2 columns]\n"
     ]
    }
   ],
   "source": [
    "Metadata['created_at'] = pd.to_datetime(Metadata['created_at'])\n",
    "Combined = Metadata.groupby('created_at')['text'].apply('\\n'.join).reset_index()\n",
    "print(Combined)"
   ]
  },
  {
   "cell_type": "markdown",
   "id": "89734d5d-287c-40fc-9622-0fa90b11481d",
   "metadata": {},
   "source": [
    "Then we perfmed stop word removal by tokenizing the tweets and filtering out the stop words.\n",
    "Stop words are commonly used words that do not carry significant meaning in sentiment analysis. Removing words such as \"the,\" \"is,\" \"and,\" \"in,\" etc helps reducing noise and focuses on the more informative words in the text."
   ]
  },
  {
   "cell_type": "code",
   "execution_count": 161,
   "id": "bb80633d-73c4-4613-b530-cf80f2c86981",
   "metadata": {},
   "outputs": [],
   "source": [
    "#stop words removal \n",
    "from nltk.corpus import stopwords\n",
    "from nltk.tokenize import word_tokenize\n",
    "import nltk\n"
   ]
  },
  {
   "cell_type": "code",
   "execution_count": 162,
   "id": "4cfae1c3-6155-4915-9e42-cf8ff1e0271a",
   "metadata": {},
   "outputs": [
    {
     "name": "stderr",
     "output_type": "stream",
     "text": [
      "[nltk_data] Downloading package stopwords to\n",
      "[nltk_data]     /home/labuser/nltk_data...\n",
      "[nltk_data]   Package stopwords is already up-to-date!\n",
      "[nltk_data] Downloading package punkt to /home/labuser/nltk_data...\n",
      "[nltk_data]   Package punkt is already up-to-date!\n"
     ]
    },
    {
     "data": {
      "text/html": [
       "<div>\n",
       "<style scoped>\n",
       "    .dataframe tbody tr th:only-of-type {\n",
       "        vertical-align: middle;\n",
       "    }\n",
       "\n",
       "    .dataframe tbody tr th {\n",
       "        vertical-align: top;\n",
       "    }\n",
       "\n",
       "    .dataframe thead th {\n",
       "        text-align: right;\n",
       "    }\n",
       "</style>\n",
       "<table border=\"1\" class=\"dataframe\">\n",
       "  <thead>\n",
       "    <tr style=\"text-align: right;\">\n",
       "      <th></th>\n",
       "      <th>created_at</th>\n",
       "      <th>text</th>\n",
       "    </tr>\n",
       "  </thead>\n",
       "  <tbody>\n",
       "    <tr>\n",
       "      <th>0</th>\n",
       "      <td>2022-04-03</td>\n",
       "      <td>berlin rocks erdayastronaut tesla raptor pump ...</td>\n",
       "    </tr>\n",
       "    <tr>\n",
       "      <th>1</th>\n",
       "      <td>2022-04-04</td>\n",
       "      <td>hausmank googleai staggeringly unfunny wholema...</td>\n",
       "    </tr>\n",
       "    <tr>\n",
       "      <th>2</th>\n",
       "      <td>2022-04-05</td>\n",
       "      <td>pmarca skepticaliblog yikes pmarca wapo always...</td>\n",
       "    </tr>\n",
       "    <tr>\n",
       "      <th>3</th>\n",
       "      <td>2022-04-06</td>\n",
       "      <td>remedygames great games stockmktnewz sale took...</td>\n",
       "    </tr>\n",
       "    <tr>\n",
       "      <th>4</th>\n",
       "      <td>2022-04-07</td>\n",
       "      <td>rt netflixfilm return space netflix april 7 el...</td>\n",
       "    </tr>\n",
       "    <tr>\n",
       "      <th>5</th>\n",
       "      <td>2022-04-08</td>\n",
       "      <td>pmarca lmaooo waitbutwhy real problem ppathole...</td>\n",
       "    </tr>\n",
       "    <tr>\n",
       "      <th>6</th>\n",
       "      <td>2022-04-09</td>\n",
       "      <td>teslaownerssv resemblance uncanny httpstcoegfd...</td>\n",
       "    </tr>\n",
       "    <tr>\n",
       "      <th>7</th>\n",
       "      <td>2022-04-10</td>\n",
       "      <td>jeffbezos great idea blkmdl3 coming soon tesla...</td>\n",
       "    </tr>\n",
       "    <tr>\n",
       "      <th>8</th>\n",
       "      <td>2022-04-14</td>\n",
       "      <td>httpstcopfqypliuvd billym2k vladtenev exactly ...</td>\n",
       "    </tr>\n",
       "    <tr>\n",
       "      <th>9</th>\n",
       "      <td>2022-04-15</td>\n",
       "      <td>daelmor mfrunker 28delayslater wholemarsblog r...</td>\n",
       "    </tr>\n",
       "  </tbody>\n",
       "</table>\n",
       "</div>"
      ],
      "text/plain": [
       "  created_at                                               text\n",
       "0 2022-04-03  berlin rocks erdayastronaut tesla raptor pump ...\n",
       "1 2022-04-04  hausmank googleai staggeringly unfunny wholema...\n",
       "2 2022-04-05  pmarca skepticaliblog yikes pmarca wapo always...\n",
       "3 2022-04-06  remedygames great games stockmktnewz sale took...\n",
       "4 2022-04-07  rt netflixfilm return space netflix april 7 el...\n",
       "5 2022-04-08  pmarca lmaooo waitbutwhy real problem ppathole...\n",
       "6 2022-04-09  teslaownerssv resemblance uncanny httpstcoegfd...\n",
       "7 2022-04-10  jeffbezos great idea blkmdl3 coming soon tesla...\n",
       "8 2022-04-14  httpstcopfqypliuvd billym2k vladtenev exactly ...\n",
       "9 2022-04-15  daelmor mfrunker 28delayslater wholemarsblog r..."
      ]
     },
     "execution_count": 162,
     "metadata": {},
     "output_type": "execute_result"
    }
   ],
   "source": [
    "nltk.download('stopwords')\n",
    "nltk.download('punkt')\n",
    "\n",
    "# Get the list of English stop words\n",
    "stop_words = set(stopwords.words('english'))\n",
    "\n",
    "# Function to remove stop words from a tweet\n",
    "def remove_stopwords(tweet):\n",
    "    # Tokenize the tweet\n",
    "    tokens = word_tokenize(tweet)\n",
    "    # Remove stop words\n",
    "    filtered_tokens = [token for token in tokens if token.lower() not in stop_words]\n",
    "    # Join the filtered tokens back into a tweet\n",
    "    filtered_tweet = ' '.join(filtered_tokens)\n",
    "    return filtered_tweet\n",
    "\n",
    "# Apply the remove_stopwords function to the 'tweet' column\n",
    "Combined['text'] = Combined['text'].apply(remove_stopwords)\n",
    "\n",
    "# Print the updated DataFrame\n",
    "Combined.head(10)"
   ]
  },
  {
   "cell_type": "code",
   "execution_count": 163,
   "id": "dc7ab622-2e7a-4de3-9787-e4596427b06e",
   "metadata": {},
   "outputs": [],
   "source": [
    "#change name in order to merge later with stock dataset\n",
    "Combined = Combined.rename(columns={'created_at': 'Date'})"
   ]
  },
  {
   "cell_type": "markdown",
   "id": "4a08d5e2-3ce8-40f3-b6fe-8cb07ca9eae2",
   "metadata": {},
   "source": [
    "Now we read the Tesla stocks data set"
   ]
  },
  {
   "cell_type": "code",
   "execution_count": 164,
   "id": "aa34047f-e1fd-48f5-8fcc-0f685fd1d48a",
   "metadata": {},
   "outputs": [
    {
     "data": {
      "text/html": [
       "<div>\n",
       "<style scoped>\n",
       "    .dataframe tbody tr th:only-of-type {\n",
       "        vertical-align: middle;\n",
       "    }\n",
       "\n",
       "    .dataframe tbody tr th {\n",
       "        vertical-align: top;\n",
       "    }\n",
       "\n",
       "    .dataframe thead th {\n",
       "        text-align: right;\n",
       "    }\n",
       "</style>\n",
       "<table border=\"1\" class=\"dataframe\">\n",
       "  <thead>\n",
       "    <tr style=\"text-align: right;\">\n",
       "      <th></th>\n",
       "      <th>Date</th>\n",
       "      <th>Open</th>\n",
       "      <th>High</th>\n",
       "      <th>Low</th>\n",
       "      <th>Close</th>\n",
       "      <th>Adj Close</th>\n",
       "      <th>Volume</th>\n",
       "    </tr>\n",
       "  </thead>\n",
       "  <tbody>\n",
       "    <tr>\n",
       "      <th>0</th>\n",
       "      <td>2022-04-04</td>\n",
       "      <td>363.126678</td>\n",
       "      <td>383.303345</td>\n",
       "      <td>357.510010</td>\n",
       "      <td>381.816681</td>\n",
       "      <td>381.816681</td>\n",
       "      <td>82035900</td>\n",
       "    </tr>\n",
       "    <tr>\n",
       "      <th>1</th>\n",
       "      <td>2022-04-05</td>\n",
       "      <td>378.766663</td>\n",
       "      <td>384.290009</td>\n",
       "      <td>362.433319</td>\n",
       "      <td>363.753326</td>\n",
       "      <td>363.753326</td>\n",
       "      <td>80075100</td>\n",
       "    </tr>\n",
       "    <tr>\n",
       "      <th>2</th>\n",
       "      <td>2022-04-06</td>\n",
       "      <td>357.823334</td>\n",
       "      <td>359.666656</td>\n",
       "      <td>342.566681</td>\n",
       "      <td>348.586670</td>\n",
       "      <td>348.586670</td>\n",
       "      <td>89348400</td>\n",
       "    </tr>\n",
       "    <tr>\n",
       "      <th>3</th>\n",
       "      <td>2022-04-07</td>\n",
       "      <td>350.796661</td>\n",
       "      <td>358.863342</td>\n",
       "      <td>340.513336</td>\n",
       "      <td>352.420013</td>\n",
       "      <td>352.420013</td>\n",
       "      <td>79447200</td>\n",
       "    </tr>\n",
       "    <tr>\n",
       "      <th>4</th>\n",
       "      <td>2022-04-08</td>\n",
       "      <td>347.736664</td>\n",
       "      <td>349.480011</td>\n",
       "      <td>340.813324</td>\n",
       "      <td>341.829987</td>\n",
       "      <td>341.829987</td>\n",
       "      <td>55013700</td>\n",
       "    </tr>\n",
       "    <tr>\n",
       "      <th>5</th>\n",
       "      <td>2022-04-11</td>\n",
       "      <td>326.799988</td>\n",
       "      <td>336.156677</td>\n",
       "      <td>324.880005</td>\n",
       "      <td>325.309998</td>\n",
       "      <td>325.309998</td>\n",
       "      <td>59357100</td>\n",
       "    </tr>\n",
       "    <tr>\n",
       "      <th>6</th>\n",
       "      <td>2022-04-12</td>\n",
       "      <td>332.546661</td>\n",
       "      <td>340.396667</td>\n",
       "      <td>325.533325</td>\n",
       "      <td>328.983337</td>\n",
       "      <td>328.983337</td>\n",
       "      <td>65976000</td>\n",
       "    </tr>\n",
       "    <tr>\n",
       "      <th>7</th>\n",
       "      <td>2022-04-13</td>\n",
       "      <td>327.026672</td>\n",
       "      <td>342.079987</td>\n",
       "      <td>324.366669</td>\n",
       "      <td>340.790009</td>\n",
       "      <td>340.790009</td>\n",
       "      <td>55121100</td>\n",
       "    </tr>\n",
       "    <tr>\n",
       "      <th>8</th>\n",
       "      <td>2022-04-14</td>\n",
       "      <td>333.096680</td>\n",
       "      <td>337.570007</td>\n",
       "      <td>327.396667</td>\n",
       "      <td>328.333344</td>\n",
       "      <td>328.333344</td>\n",
       "      <td>58422300</td>\n",
       "    </tr>\n",
       "    <tr>\n",
       "      <th>9</th>\n",
       "      <td>2022-04-18</td>\n",
       "      <td>329.676666</td>\n",
       "      <td>338.306671</td>\n",
       "      <td>324.470001</td>\n",
       "      <td>334.763336</td>\n",
       "      <td>334.763336</td>\n",
       "      <td>51715200</td>\n",
       "    </tr>\n",
       "  </tbody>\n",
       "</table>\n",
       "</div>"
      ],
      "text/plain": [
       "         Date        Open        High         Low       Close   Adj Close  \\\n",
       "0  2022-04-04  363.126678  383.303345  357.510010  381.816681  381.816681   \n",
       "1  2022-04-05  378.766663  384.290009  362.433319  363.753326  363.753326   \n",
       "2  2022-04-06  357.823334  359.666656  342.566681  348.586670  348.586670   \n",
       "3  2022-04-07  350.796661  358.863342  340.513336  352.420013  352.420013   \n",
       "4  2022-04-08  347.736664  349.480011  340.813324  341.829987  341.829987   \n",
       "5  2022-04-11  326.799988  336.156677  324.880005  325.309998  325.309998   \n",
       "6  2022-04-12  332.546661  340.396667  325.533325  328.983337  328.983337   \n",
       "7  2022-04-13  327.026672  342.079987  324.366669  340.790009  340.790009   \n",
       "8  2022-04-14  333.096680  337.570007  327.396667  328.333344  328.333344   \n",
       "9  2022-04-18  329.676666  338.306671  324.470001  334.763336  334.763336   \n",
       "\n",
       "     Volume  \n",
       "0  82035900  \n",
       "1  80075100  \n",
       "2  89348400  \n",
       "3  79447200  \n",
       "4  55013700  \n",
       "5  59357100  \n",
       "6  65976000  \n",
       "7  55121100  \n",
       "8  58422300  \n",
       "9  51715200  "
      ]
     },
     "execution_count": 164,
     "metadata": {},
     "output_type": "execute_result"
    }
   ],
   "source": [
    "#stockdata from YahooFinance in the specific date range\n",
    "stock=pd.read_csv('TSLA.csv')\n",
    "stock.head(10)\n"
   ]
  },
  {
   "cell_type": "markdown",
   "id": "258ca173-9e09-4430-a69f-92c36b776256",
   "metadata": {},
   "source": [
    "We only keep the Date and Closing price columns because they're the only ones holding relevant information for our analysis."
   ]
  },
  {
   "cell_type": "code",
   "execution_count": 165,
   "id": "d5728faf-a26a-456b-b524-dd1e8bc20dd0",
   "metadata": {},
   "outputs": [
    {
     "data": {
      "text/html": [
       "<div>\n",
       "<style scoped>\n",
       "    .dataframe tbody tr th:only-of-type {\n",
       "        vertical-align: middle;\n",
       "    }\n",
       "\n",
       "    .dataframe tbody tr th {\n",
       "        vertical-align: top;\n",
       "    }\n",
       "\n",
       "    .dataframe thead th {\n",
       "        text-align: right;\n",
       "    }\n",
       "</style>\n",
       "<table border=\"1\" class=\"dataframe\">\n",
       "  <thead>\n",
       "    <tr style=\"text-align: right;\">\n",
       "      <th></th>\n",
       "      <th>Date</th>\n",
       "      <th>Close</th>\n",
       "    </tr>\n",
       "  </thead>\n",
       "  <tbody>\n",
       "    <tr>\n",
       "      <th>0</th>\n",
       "      <td>2022-04-04</td>\n",
       "      <td>381.816681</td>\n",
       "    </tr>\n",
       "    <tr>\n",
       "      <th>1</th>\n",
       "      <td>2022-04-05</td>\n",
       "      <td>363.753326</td>\n",
       "    </tr>\n",
       "    <tr>\n",
       "      <th>2</th>\n",
       "      <td>2022-04-06</td>\n",
       "      <td>348.586670</td>\n",
       "    </tr>\n",
       "    <tr>\n",
       "      <th>3</th>\n",
       "      <td>2022-04-07</td>\n",
       "      <td>352.420013</td>\n",
       "    </tr>\n",
       "    <tr>\n",
       "      <th>4</th>\n",
       "      <td>2022-04-08</td>\n",
       "      <td>341.829987</td>\n",
       "    </tr>\n",
       "    <tr>\n",
       "      <th>5</th>\n",
       "      <td>2022-04-11</td>\n",
       "      <td>325.309998</td>\n",
       "    </tr>\n",
       "    <tr>\n",
       "      <th>6</th>\n",
       "      <td>2022-04-12</td>\n",
       "      <td>328.983337</td>\n",
       "    </tr>\n",
       "    <tr>\n",
       "      <th>7</th>\n",
       "      <td>2022-04-13</td>\n",
       "      <td>340.790009</td>\n",
       "    </tr>\n",
       "    <tr>\n",
       "      <th>8</th>\n",
       "      <td>2022-04-14</td>\n",
       "      <td>328.333344</td>\n",
       "    </tr>\n",
       "    <tr>\n",
       "      <th>9</th>\n",
       "      <td>2022-04-18</td>\n",
       "      <td>334.763336</td>\n",
       "    </tr>\n",
       "  </tbody>\n",
       "</table>\n",
       "</div>"
      ],
      "text/plain": [
       "         Date       Close\n",
       "0  2022-04-04  381.816681\n",
       "1  2022-04-05  363.753326\n",
       "2  2022-04-06  348.586670\n",
       "3  2022-04-07  352.420013\n",
       "4  2022-04-08  341.829987\n",
       "5  2022-04-11  325.309998\n",
       "6  2022-04-12  328.983337\n",
       "7  2022-04-13  340.790009\n",
       "8  2022-04-14  328.333344\n",
       "9  2022-04-18  334.763336"
      ]
     },
     "execution_count": 165,
     "metadata": {},
     "output_type": "execute_result"
    }
   ],
   "source": [
    "stock = stock[['Date','Close']]\n",
    "stock.head(10)"
   ]
  },
  {
   "cell_type": "markdown",
   "id": "1d8a4532-6bc5-466b-8139-958e27454764",
   "metadata": {},
   "source": [
    "Now we merge these two columns with our previous processed tweets dataset."
   ]
  },
  {
   "cell_type": "code",
   "execution_count": 166,
   "id": "23a2a8af-326d-43bc-bee4-c341febfdec8",
   "metadata": {},
   "outputs": [
    {
     "data": {
      "text/html": [
       "<div>\n",
       "<style scoped>\n",
       "    .dataframe tbody tr th:only-of-type {\n",
       "        vertical-align: middle;\n",
       "    }\n",
       "\n",
       "    .dataframe tbody tr th {\n",
       "        vertical-align: top;\n",
       "    }\n",
       "\n",
       "    .dataframe thead th {\n",
       "        text-align: right;\n",
       "    }\n",
       "</style>\n",
       "<table border=\"1\" class=\"dataframe\">\n",
       "  <thead>\n",
       "    <tr style=\"text-align: right;\">\n",
       "      <th></th>\n",
       "      <th>Date</th>\n",
       "      <th>text</th>\n",
       "      <th>Close</th>\n",
       "    </tr>\n",
       "  </thead>\n",
       "  <tbody>\n",
       "    <tr>\n",
       "      <th>0</th>\n",
       "      <td>2022-04-03</td>\n",
       "      <td>berlin rocks erdayastronaut tesla raptor pump ...</td>\n",
       "      <td>NaN</td>\n",
       "    </tr>\n",
       "    <tr>\n",
       "      <th>1</th>\n",
       "      <td>2022-04-04</td>\n",
       "      <td>hausmank googleai staggeringly unfunny wholema...</td>\n",
       "      <td>381.816681</td>\n",
       "    </tr>\n",
       "    <tr>\n",
       "      <th>2</th>\n",
       "      <td>2022-04-05</td>\n",
       "      <td>pmarca skepticaliblog yikes pmarca wapo always...</td>\n",
       "      <td>363.753326</td>\n",
       "    </tr>\n",
       "    <tr>\n",
       "      <th>3</th>\n",
       "      <td>2022-04-06</td>\n",
       "      <td>remedygames great games stockmktnewz sale took...</td>\n",
       "      <td>348.586670</td>\n",
       "    </tr>\n",
       "    <tr>\n",
       "      <th>4</th>\n",
       "      <td>2022-04-07</td>\n",
       "      <td>rt netflixfilm return space netflix april 7 el...</td>\n",
       "      <td>352.420013</td>\n",
       "    </tr>\n",
       "    <tr>\n",
       "      <th>5</th>\n",
       "      <td>2022-04-08</td>\n",
       "      <td>pmarca lmaooo waitbutwhy real problem ppathole...</td>\n",
       "      <td>341.829987</td>\n",
       "    </tr>\n",
       "    <tr>\n",
       "      <th>6</th>\n",
       "      <td>2022-04-09</td>\n",
       "      <td>teslaownerssv resemblance uncanny httpstcoegfd...</td>\n",
       "      <td>NaN</td>\n",
       "    </tr>\n",
       "    <tr>\n",
       "      <th>7</th>\n",
       "      <td>2022-04-10</td>\n",
       "      <td>jeffbezos great idea blkmdl3 coming soon tesla...</td>\n",
       "      <td>NaN</td>\n",
       "    </tr>\n",
       "    <tr>\n",
       "      <th>8</th>\n",
       "      <td>2022-04-14</td>\n",
       "      <td>httpstcopfqypliuvd billym2k vladtenev exactly ...</td>\n",
       "      <td>328.333344</td>\n",
       "    </tr>\n",
       "    <tr>\n",
       "      <th>9</th>\n",
       "      <td>2022-04-15</td>\n",
       "      <td>daelmor mfrunker 28delayslater wholemarsblog r...</td>\n",
       "      <td>NaN</td>\n",
       "    </tr>\n",
       "  </tbody>\n",
       "</table>\n",
       "</div>"
      ],
      "text/plain": [
       "        Date                                               text       Close\n",
       "0 2022-04-03  berlin rocks erdayastronaut tesla raptor pump ...         NaN\n",
       "1 2022-04-04  hausmank googleai staggeringly unfunny wholema...  381.816681\n",
       "2 2022-04-05  pmarca skepticaliblog yikes pmarca wapo always...  363.753326\n",
       "3 2022-04-06  remedygames great games stockmktnewz sale took...  348.586670\n",
       "4 2022-04-07  rt netflixfilm return space netflix april 7 el...  352.420013\n",
       "5 2022-04-08  pmarca lmaooo waitbutwhy real problem ppathole...  341.829987\n",
       "6 2022-04-09  teslaownerssv resemblance uncanny httpstcoegfd...         NaN\n",
       "7 2022-04-10  jeffbezos great idea blkmdl3 coming soon tesla...         NaN\n",
       "8 2022-04-14  httpstcopfqypliuvd billym2k vladtenev exactly ...  328.333344\n",
       "9 2022-04-15  daelmor mfrunker 28delayslater wholemarsblog r...         NaN"
      ]
     },
     "execution_count": 166,
     "metadata": {},
     "output_type": "execute_result"
    }
   ],
   "source": [
    "Combined['Date'] = pd.to_datetime(Combined['Date'])\n",
    "stock['Date'] = pd.to_datetime(stock['Date'])\n",
    "merged = pd.merge(Combined, stock, on='Date' , how='left')\n",
    "merged.head(10)"
   ]
  },
  {
   "cell_type": "markdown",
   "id": "68fc3f63-ee7d-4152-8c12-7822d03380b9",
   "metadata": {},
   "source": [
    "Some entries are null as the closing price might not be available for that day due to some reason (like holiday, etc.)\n",
    "So we take the mean for the closing price and put it in the null boxes and then set the closing prices to integers to facilitate any potential computation later."
   ]
  },
  {
   "cell_type": "code",
   "execution_count": 167,
   "id": "b971e213-9dfa-4c9e-a568-69753b5072b5",
   "metadata": {},
   "outputs": [
    {
     "data": {
      "text/html": [
       "<div>\n",
       "<style scoped>\n",
       "    .dataframe tbody tr th:only-of-type {\n",
       "        vertical-align: middle;\n",
       "    }\n",
       "\n",
       "    .dataframe tbody tr th {\n",
       "        vertical-align: top;\n",
       "    }\n",
       "\n",
       "    .dataframe thead th {\n",
       "        text-align: right;\n",
       "    }\n",
       "</style>\n",
       "<table border=\"1\" class=\"dataframe\">\n",
       "  <thead>\n",
       "    <tr style=\"text-align: right;\">\n",
       "      <th></th>\n",
       "      <th>Date</th>\n",
       "      <th>text</th>\n",
       "      <th>Close</th>\n",
       "    </tr>\n",
       "  </thead>\n",
       "  <tbody>\n",
       "    <tr>\n",
       "      <th>0</th>\n",
       "      <td>2022-04-03</td>\n",
       "      <td>berlin rocks erdayastronaut tesla raptor pump ...</td>\n",
       "      <td>280</td>\n",
       "    </tr>\n",
       "    <tr>\n",
       "      <th>1</th>\n",
       "      <td>2022-04-04</td>\n",
       "      <td>hausmank googleai staggeringly unfunny wholema...</td>\n",
       "      <td>381</td>\n",
       "    </tr>\n",
       "    <tr>\n",
       "      <th>2</th>\n",
       "      <td>2022-04-05</td>\n",
       "      <td>pmarca skepticaliblog yikes pmarca wapo always...</td>\n",
       "      <td>363</td>\n",
       "    </tr>\n",
       "    <tr>\n",
       "      <th>3</th>\n",
       "      <td>2022-04-06</td>\n",
       "      <td>remedygames great games stockmktnewz sale took...</td>\n",
       "      <td>348</td>\n",
       "    </tr>\n",
       "    <tr>\n",
       "      <th>4</th>\n",
       "      <td>2022-04-07</td>\n",
       "      <td>rt netflixfilm return space netflix april 7 el...</td>\n",
       "      <td>352</td>\n",
       "    </tr>\n",
       "    <tr>\n",
       "      <th>5</th>\n",
       "      <td>2022-04-08</td>\n",
       "      <td>pmarca lmaooo waitbutwhy real problem ppathole...</td>\n",
       "      <td>341</td>\n",
       "    </tr>\n",
       "    <tr>\n",
       "      <th>6</th>\n",
       "      <td>2022-04-09</td>\n",
       "      <td>teslaownerssv resemblance uncanny httpstcoegfd...</td>\n",
       "      <td>280</td>\n",
       "    </tr>\n",
       "    <tr>\n",
       "      <th>7</th>\n",
       "      <td>2022-04-10</td>\n",
       "      <td>jeffbezos great idea blkmdl3 coming soon tesla...</td>\n",
       "      <td>280</td>\n",
       "    </tr>\n",
       "    <tr>\n",
       "      <th>8</th>\n",
       "      <td>2022-04-14</td>\n",
       "      <td>httpstcopfqypliuvd billym2k vladtenev exactly ...</td>\n",
       "      <td>328</td>\n",
       "    </tr>\n",
       "    <tr>\n",
       "      <th>9</th>\n",
       "      <td>2022-04-15</td>\n",
       "      <td>daelmor mfrunker 28delayslater wholemarsblog r...</td>\n",
       "      <td>280</td>\n",
       "    </tr>\n",
       "  </tbody>\n",
       "</table>\n",
       "</div>"
      ],
      "text/plain": [
       "        Date                                               text  Close\n",
       "0 2022-04-03  berlin rocks erdayastronaut tesla raptor pump ...    280\n",
       "1 2022-04-04  hausmank googleai staggeringly unfunny wholema...    381\n",
       "2 2022-04-05  pmarca skepticaliblog yikes pmarca wapo always...    363\n",
       "3 2022-04-06  remedygames great games stockmktnewz sale took...    348\n",
       "4 2022-04-07  rt netflixfilm return space netflix april 7 el...    352\n",
       "5 2022-04-08  pmarca lmaooo waitbutwhy real problem ppathole...    341\n",
       "6 2022-04-09  teslaownerssv resemblance uncanny httpstcoegfd...    280\n",
       "7 2022-04-10  jeffbezos great idea blkmdl3 coming soon tesla...    280\n",
       "8 2022-04-14  httpstcopfqypliuvd billym2k vladtenev exactly ...    328\n",
       "9 2022-04-15  daelmor mfrunker 28delayslater wholemarsblog r...    280"
      ]
     },
     "execution_count": 167,
     "metadata": {},
     "output_type": "execute_result"
    }
   ],
   "source": [
    "merged['Close'] = merged['Close'].fillna(merged['Close'].mean())\n",
    "merged[['Close']]=merged[['Close']].astype(int)\n",
    "merged.head(10)\n"
   ]
  },
  {
   "cell_type": "markdown",
   "id": "fb899102-7c65-4dfd-bf4e-2cd65dfebfda",
   "metadata": {},
   "source": [
    "### Sentiment Analysis\n",
    "We will use the NLTK library to perform our sentiment analysis in this project"
   ]
  },
  {
   "cell_type": "code",
   "execution_count": 168,
   "id": "69f92440-379f-4c8c-89ad-938fc51c6b8a",
   "metadata": {},
   "outputs": [
    {
     "name": "stderr",
     "output_type": "stream",
     "text": [
      "[nltk_data] Downloading package vader_lexicon to\n",
      "[nltk_data]     /home/labuser/nltk_data...\n",
      "[nltk_data]   Package vader_lexicon is already up-to-date!\n"
     ]
    },
    {
     "data": {
      "text/plain": [
       "True"
      ]
     },
     "execution_count": 168,
     "metadata": {},
     "output_type": "execute_result"
    }
   ],
   "source": [
    "import nltk\n",
    "nltk.download('vader_lexicon')"
   ]
  },
  {
   "cell_type": "code",
   "execution_count": 169,
   "id": "1334652a-4a28-4b62-891e-f490514e8894",
   "metadata": {},
   "outputs": [],
   "source": [
    "from nltk.sentiment.vader import SentimentIntensityAnalyzer\n",
    "from nltk.sentiment.vader import SentimentIntensityAnalyzer\n",
    "import unicodedata"
   ]
  },
  {
   "cell_type": "markdown",
   "id": "b8e5a632-eb4f-40b5-a883-5d31efab62b4",
   "metadata": {},
   "source": [
    "SentimentIntensityAnalyzer() is a pre-trained tool from the NLTK library in Python, specifically the Vader sentiment analysis tool, which assigns sentiment scores to text based on a combination of lexical and grammatical features. \n",
    "\n",
    "The sentiment scores provided by SentimentIntensityAnalyzer() range from -1 to 1. A score of -1 indicates extremely negative sentiment. A score of 1 indicates extremely positive sentiment.\n",
    "\n",
    "After getting the sentiment scores of each eveyday tweets, we combined them to our dataset."
   ]
  },
  {
   "cell_type": "code",
   "execution_count": 170,
   "id": "86e728e4-2ec8-4595-9f3b-80eb3064176f",
   "metadata": {},
   "outputs": [
    {
     "data": {
      "text/html": [
       "<div>\n",
       "<style scoped>\n",
       "    .dataframe tbody tr th:only-of-type {\n",
       "        vertical-align: middle;\n",
       "    }\n",
       "\n",
       "    .dataframe tbody tr th {\n",
       "        vertical-align: top;\n",
       "    }\n",
       "\n",
       "    .dataframe thead th {\n",
       "        text-align: right;\n",
       "    }\n",
       "</style>\n",
       "<table border=\"1\" class=\"dataframe\">\n",
       "  <thead>\n",
       "    <tr style=\"text-align: right;\">\n",
       "      <th></th>\n",
       "      <th>Date</th>\n",
       "      <th>text</th>\n",
       "      <th>Close</th>\n",
       "      <th>sentiment_score</th>\n",
       "    </tr>\n",
       "  </thead>\n",
       "  <tbody>\n",
       "    <tr>\n",
       "      <th>0</th>\n",
       "      <td>2022-04-03</td>\n",
       "      <td>berlin rocks erdayastronaut tesla raptor pump ...</td>\n",
       "      <td>280</td>\n",
       "      <td>0.9602</td>\n",
       "    </tr>\n",
       "    <tr>\n",
       "      <th>1</th>\n",
       "      <td>2022-04-04</td>\n",
       "      <td>hausmank googleai staggeringly unfunny wholema...</td>\n",
       "      <td>381</td>\n",
       "      <td>0.6705</td>\n",
       "    </tr>\n",
       "    <tr>\n",
       "      <th>2</th>\n",
       "      <td>2022-04-05</td>\n",
       "      <td>pmarca skepticaliblog yikes pmarca wapo always...</td>\n",
       "      <td>363</td>\n",
       "      <td>0.7579</td>\n",
       "    </tr>\n",
       "    <tr>\n",
       "      <th>3</th>\n",
       "      <td>2022-04-06</td>\n",
       "      <td>remedygames great games stockmktnewz sale took...</td>\n",
       "      <td>348</td>\n",
       "      <td>0.9100</td>\n",
       "    </tr>\n",
       "    <tr>\n",
       "      <th>4</th>\n",
       "      <td>2022-04-07</td>\n",
       "      <td>rt netflixfilm return space netflix april 7 el...</td>\n",
       "      <td>352</td>\n",
       "      <td>0.7878</td>\n",
       "    </tr>\n",
       "    <tr>\n",
       "      <th>5</th>\n",
       "      <td>2022-04-08</td>\n",
       "      <td>pmarca lmaooo waitbutwhy real problem ppathole...</td>\n",
       "      <td>341</td>\n",
       "      <td>0.9678</td>\n",
       "    </tr>\n",
       "    <tr>\n",
       "      <th>6</th>\n",
       "      <td>2022-04-09</td>\n",
       "      <td>teslaownerssv resemblance uncanny httpstcoegfd...</td>\n",
       "      <td>280</td>\n",
       "      <td>0.9810</td>\n",
       "    </tr>\n",
       "    <tr>\n",
       "      <th>7</th>\n",
       "      <td>2022-04-10</td>\n",
       "      <td>jeffbezos great idea blkmdl3 coming soon tesla...</td>\n",
       "      <td>280</td>\n",
       "      <td>0.4215</td>\n",
       "    </tr>\n",
       "    <tr>\n",
       "      <th>8</th>\n",
       "      <td>2022-04-14</td>\n",
       "      <td>httpstcopfqypliuvd billym2k vladtenev exactly ...</td>\n",
       "      <td>328</td>\n",
       "      <td>0.8750</td>\n",
       "    </tr>\n",
       "    <tr>\n",
       "      <th>9</th>\n",
       "      <td>2022-04-15</td>\n",
       "      <td>daelmor mfrunker 28delayslater wholemarsblog r...</td>\n",
       "      <td>280</td>\n",
       "      <td>0.6808</td>\n",
       "    </tr>\n",
       "  </tbody>\n",
       "</table>\n",
       "</div>"
      ],
      "text/plain": [
       "        Date                                               text  Close  \\\n",
       "0 2022-04-03  berlin rocks erdayastronaut tesla raptor pump ...    280   \n",
       "1 2022-04-04  hausmank googleai staggeringly unfunny wholema...    381   \n",
       "2 2022-04-05  pmarca skepticaliblog yikes pmarca wapo always...    363   \n",
       "3 2022-04-06  remedygames great games stockmktnewz sale took...    348   \n",
       "4 2022-04-07  rt netflixfilm return space netflix april 7 el...    352   \n",
       "5 2022-04-08  pmarca lmaooo waitbutwhy real problem ppathole...    341   \n",
       "6 2022-04-09  teslaownerssv resemblance uncanny httpstcoegfd...    280   \n",
       "7 2022-04-10  jeffbezos great idea blkmdl3 coming soon tesla...    280   \n",
       "8 2022-04-14  httpstcopfqypliuvd billym2k vladtenev exactly ...    328   \n",
       "9 2022-04-15  daelmor mfrunker 28delayslater wholemarsblog r...    280   \n",
       "\n",
       "   sentiment_score  \n",
       "0           0.9602  \n",
       "1           0.6705  \n",
       "2           0.7579  \n",
       "3           0.9100  \n",
       "4           0.7878  \n",
       "5           0.9678  \n",
       "6           0.9810  \n",
       "7           0.4215  \n",
       "8           0.8750  \n",
       "9           0.6808  "
      ]
     },
     "execution_count": 170,
     "metadata": {},
     "output_type": "execute_result"
    }
   ],
   "source": [
    "sia = SentimentIntensityAnalyzer()\n",
    "def get_sentiment_scores(text):\n",
    "    sentiment = sia.polarity_scores(text)\n",
    "    return sentiment['compound']\n",
    "merged['sentiment_score'] = merged['text'].apply(get_sentiment_scores)\n",
    "merged.head(10)"
   ]
  },
  {
   "cell_type": "markdown",
   "id": "3ec0d505-b94c-40eb-b8f4-91fd5ae4de65",
   "metadata": {},
   "source": [
    "To provide more insights on the sentiment scores gotten, let's try and plot the percentage of \"negative\" and \"positive\" tweets based on their sentiment scores."
   ]
  },
  {
   "cell_type": "code",
   "execution_count": 171,
   "id": "9470088e-6a80-45e7-b851-2cd517f235c3",
   "metadata": {},
   "outputs": [
    {
     "name": "stdout",
     "output_type": "stream",
     "text": [
      "% of positive tweets=  85.83333333333333\n",
      "% of negative tweets=  10.0\n"
     ]
    },
    {
     "data": {
      "text/plain": [
       "[]"
      ]
     },
     "execution_count": 171,
     "metadata": {},
     "output_type": "execute_result"
    },
    {
     "data": {
      "image/png": "[encoded data removed]",
      "text/plain": [
       "<Figure size 432x288 with 1 Axes>"
      ]
     },
     "metadata": {},
     "output_type": "display_data"
    }
   ],
   "source": [
    "import matplotlib.pyplot as mlpt\n",
    "\n",
    "posi=0\n",
    "nega=0\n",
    "for i in range (0,len(merged)):\n",
    "    get_val=merged.sentiment_score[i]\n",
    "    if(float(get_val)<(0)):\n",
    "        nega=nega+1\n",
    "    if(float(get_val>(0))):\n",
    "        posi=posi+1\n",
    "posper=(posi/(len(merged)))*100\n",
    "negper=(nega/(len(merged)))*100\n",
    "print(\"% of positive tweets= \",posper)\n",
    "print(\"% of negative tweets= \",negper)\n",
    "arr=np.asarray([posper,negper], dtype=int)\n",
    "mlpt.pie(arr,labels=['positive','negative'])\n",
    "mlpt.plot()"
   ]
  },
  {
   "cell_type": "markdown",
   "id": "d68a5876-4c81-4865-b8ff-f85aa69b968d",
   "metadata": {},
   "source": [
    "### Model training\n",
    "We start by making a copy of our final processed dataset with all the relevent columns in order to start our model training."
   ]
  },
  {
   "cell_type": "code",
   "execution_count": 172,
   "id": "bd02a92c-177f-4ad0-a1f9-2272473e61eb",
   "metadata": {},
   "outputs": [
    {
     "data": {
      "text/plain": [
       "(120, 4)"
      ]
     },
     "execution_count": 172,
     "metadata": {},
     "output_type": "execute_result"
    }
   ],
   "source": [
    "Data=merged[['Date','text','Close','sentiment_score']].copy()\n",
    "np.shape(Data)"
   ]
  },
  {
   "cell_type": "code",
   "execution_count": 173,
   "id": "3d8d08f5-507f-47fd-8bce-4b07cdd99d5a",
   "metadata": {},
   "outputs": [
    {
     "data": {
      "text/html": [
       "<div>\n",
       "<style scoped>\n",
       "    .dataframe tbody tr th:only-of-type {\n",
       "        vertical-align: middle;\n",
       "    }\n",
       "\n",
       "    .dataframe tbody tr th {\n",
       "        vertical-align: top;\n",
       "    }\n",
       "\n",
       "    .dataframe thead th {\n",
       "        text-align: right;\n",
       "    }\n",
       "</style>\n",
       "<table border=\"1\" class=\"dataframe\">\n",
       "  <thead>\n",
       "    <tr style=\"text-align: right;\">\n",
       "      <th></th>\n",
       "      <th>Date</th>\n",
       "      <th>text</th>\n",
       "      <th>Close</th>\n",
       "      <th>sentiment_score</th>\n",
       "    </tr>\n",
       "  </thead>\n",
       "  <tbody>\n",
       "    <tr>\n",
       "      <th>0</th>\n",
       "      <td>2022-04-03</td>\n",
       "      <td>berlin rocks erdayastronaut tesla raptor pump ...</td>\n",
       "      <td>280</td>\n",
       "      <td>0.9602</td>\n",
       "    </tr>\n",
       "    <tr>\n",
       "      <th>1</th>\n",
       "      <td>2022-04-04</td>\n",
       "      <td>hausmank googleai staggeringly unfunny wholema...</td>\n",
       "      <td>381</td>\n",
       "      <td>0.6705</td>\n",
       "    </tr>\n",
       "    <tr>\n",
       "      <th>2</th>\n",
       "      <td>2022-04-05</td>\n",
       "      <td>pmarca skepticaliblog yikes pmarca wapo always...</td>\n",
       "      <td>363</td>\n",
       "      <td>0.7579</td>\n",
       "    </tr>\n",
       "    <tr>\n",
       "      <th>3</th>\n",
       "      <td>2022-04-06</td>\n",
       "      <td>remedygames great games stockmktnewz sale took...</td>\n",
       "      <td>348</td>\n",
       "      <td>0.9100</td>\n",
       "    </tr>\n",
       "    <tr>\n",
       "      <th>4</th>\n",
       "      <td>2022-04-07</td>\n",
       "      <td>rt netflixfilm return space netflix april 7 el...</td>\n",
       "      <td>352</td>\n",
       "      <td>0.7878</td>\n",
       "    </tr>\n",
       "    <tr>\n",
       "      <th>5</th>\n",
       "      <td>2022-04-08</td>\n",
       "      <td>pmarca lmaooo waitbutwhy real problem ppathole...</td>\n",
       "      <td>341</td>\n",
       "      <td>0.9678</td>\n",
       "    </tr>\n",
       "    <tr>\n",
       "      <th>6</th>\n",
       "      <td>2022-04-09</td>\n",
       "      <td>teslaownerssv resemblance uncanny httpstcoegfd...</td>\n",
       "      <td>280</td>\n",
       "      <td>0.9810</td>\n",
       "    </tr>\n",
       "    <tr>\n",
       "      <th>7</th>\n",
       "      <td>2022-04-10</td>\n",
       "      <td>jeffbezos great idea blkmdl3 coming soon tesla...</td>\n",
       "      <td>280</td>\n",
       "      <td>0.4215</td>\n",
       "    </tr>\n",
       "    <tr>\n",
       "      <th>8</th>\n",
       "      <td>2022-04-14</td>\n",
       "      <td>httpstcopfqypliuvd billym2k vladtenev exactly ...</td>\n",
       "      <td>328</td>\n",
       "      <td>0.8750</td>\n",
       "    </tr>\n",
       "    <tr>\n",
       "      <th>9</th>\n",
       "      <td>2022-04-15</td>\n",
       "      <td>daelmor mfrunker 28delayslater wholemarsblog r...</td>\n",
       "      <td>280</td>\n",
       "      <td>0.6808</td>\n",
       "    </tr>\n",
       "  </tbody>\n",
       "</table>\n",
       "</div>"
      ],
      "text/plain": [
       "        Date                                               text  Close  \\\n",
       "0 2022-04-03  berlin rocks erdayastronaut tesla raptor pump ...    280   \n",
       "1 2022-04-04  hausmank googleai staggeringly unfunny wholema...    381   \n",
       "2 2022-04-05  pmarca skepticaliblog yikes pmarca wapo always...    363   \n",
       "3 2022-04-06  remedygames great games stockmktnewz sale took...    348   \n",
       "4 2022-04-07  rt netflixfilm return space netflix april 7 el...    352   \n",
       "5 2022-04-08  pmarca lmaooo waitbutwhy real problem ppathole...    341   \n",
       "6 2022-04-09  teslaownerssv resemblance uncanny httpstcoegfd...    280   \n",
       "7 2022-04-10  jeffbezos great idea blkmdl3 coming soon tesla...    280   \n",
       "8 2022-04-14  httpstcopfqypliuvd billym2k vladtenev exactly ...    328   \n",
       "9 2022-04-15  daelmor mfrunker 28delayslater wholemarsblog r...    280   \n",
       "\n",
       "   sentiment_score  \n",
       "0           0.9602  \n",
       "1           0.6705  \n",
       "2           0.7579  \n",
       "3           0.9100  \n",
       "4           0.7878  \n",
       "5           0.9678  \n",
       "6           0.9810  \n",
       "7           0.4215  \n",
       "8           0.8750  \n",
       "9           0.6808  "
      ]
     },
     "execution_count": 173,
     "metadata": {},
     "output_type": "execute_result"
    }
   ],
   "source": [
    "Data.head(10)"
   ]
  },
  {
   "cell_type": "code",
   "execution_count": 174,
   "id": "4a3d18fb-3ccf-49bd-ab01-9a17f0fb2695",
   "metadata": {},
   "outputs": [
    {
     "data": {
      "text/html": [
       "<div>\n",
       "<style scoped>\n",
       "    .dataframe tbody tr th:only-of-type {\n",
       "        vertical-align: middle;\n",
       "    }\n",
       "\n",
       "    .dataframe tbody tr th {\n",
       "        vertical-align: top;\n",
       "    }\n",
       "\n",
       "    .dataframe thead th {\n",
       "        text-align: right;\n",
       "    }\n",
       "</style>\n",
       "<table border=\"1\" class=\"dataframe\">\n",
       "  <thead>\n",
       "    <tr style=\"text-align: right;\">\n",
       "      <th></th>\n",
       "      <th>Date</th>\n",
       "      <th>text</th>\n",
       "      <th>Close</th>\n",
       "      <th>sentiment_score</th>\n",
       "    </tr>\n",
       "  </thead>\n",
       "  <tbody>\n",
       "    <tr>\n",
       "      <th>110</th>\n",
       "      <td>2022-09-06</td>\n",
       "      <td>wholemarsblog solar batteries needed batteries...</td>\n",
       "      <td>274</td>\n",
       "      <td>-0.7372</td>\n",
       "    </tr>\n",
       "    <tr>\n",
       "      <th>111</th>\n",
       "      <td>2022-09-07</td>\n",
       "      <td>rt tesla tesla model receives highest safety s...</td>\n",
       "      <td>283</td>\n",
       "      <td>0.6808</td>\n",
       "    </tr>\n",
       "    <tr>\n",
       "      <th>112</th>\n",
       "      <td>2022-09-08</td>\n",
       "      <td>codingmark andy8671025 wholemarsblog assuming ...</td>\n",
       "      <td>289</td>\n",
       "      <td>0.9994</td>\n",
       "    </tr>\n",
       "    <tr>\n",
       "      <th>113</th>\n",
       "      <td>2022-09-09</td>\n",
       "      <td>take materials science 101 wont regret major f...</td>\n",
       "      <td>299</td>\n",
       "      <td>0.9477</td>\n",
       "    </tr>\n",
       "    <tr>\n",
       "      <th>114</th>\n",
       "      <td>2022-09-10</td>\n",
       "      <td>dirtytesla wholemarsblog yes wholemarsblog tea...</td>\n",
       "      <td>280</td>\n",
       "      <td>0.9628</td>\n",
       "    </tr>\n",
       "    <tr>\n",
       "      <th>115</th>\n",
       "      <td>2022-09-11</td>\n",
       "      <td>cbdoge paraga sigh fsd beta 10692 rolling plea...</td>\n",
       "      <td>280</td>\n",
       "      <td>0.7906</td>\n",
       "    </tr>\n",
       "    <tr>\n",
       "      <th>116</th>\n",
       "      <td>2022-09-12</td>\n",
       "      <td>residual value gasoline cars bought today much...</td>\n",
       "      <td>304</td>\n",
       "      <td>-0.2057</td>\n",
       "    </tr>\n",
       "    <tr>\n",
       "      <th>117</th>\n",
       "      <td>2022-09-13</td>\n",
       "      <td>huobiglobal subtle huobiglobal note working ma...</td>\n",
       "      <td>292</td>\n",
       "      <td>0.9870</td>\n",
       "    </tr>\n",
       "    <tr>\n",
       "      <th>118</th>\n",
       "      <td>2022-09-14</td>\n",
       "      <td>salted butter amazing stored room temperature ...</td>\n",
       "      <td>302</td>\n",
       "      <td>0.6597</td>\n",
       "    </tr>\n",
       "    <tr>\n",
       "      <th>119</th>\n",
       "      <td>2022-09-15</td>\n",
       "      <td>ilyasut short shorts httpstcoek4xby92ga ilyasu...</td>\n",
       "      <td>280</td>\n",
       "      <td>0.0000</td>\n",
       "    </tr>\n",
       "  </tbody>\n",
       "</table>\n",
       "</div>"
      ],
      "text/plain": [
       "          Date                                               text  Close  \\\n",
       "110 2022-09-06  wholemarsblog solar batteries needed batteries...    274   \n",
       "111 2022-09-07  rt tesla tesla model receives highest safety s...    283   \n",
       "112 2022-09-08  codingmark andy8671025 wholemarsblog assuming ...    289   \n",
       "113 2022-09-09  take materials science 101 wont regret major f...    299   \n",
       "114 2022-09-10  dirtytesla wholemarsblog yes wholemarsblog tea...    280   \n",
       "115 2022-09-11  cbdoge paraga sigh fsd beta 10692 rolling plea...    280   \n",
       "116 2022-09-12  residual value gasoline cars bought today much...    304   \n",
       "117 2022-09-13  huobiglobal subtle huobiglobal note working ma...    292   \n",
       "118 2022-09-14  salted butter amazing stored room temperature ...    302   \n",
       "119 2022-09-15  ilyasut short shorts httpstcoek4xby92ga ilyasu...    280   \n",
       "\n",
       "     sentiment_score  \n",
       "110          -0.7372  \n",
       "111           0.6808  \n",
       "112           0.9994  \n",
       "113           0.9477  \n",
       "114           0.9628  \n",
       "115           0.7906  \n",
       "116          -0.2057  \n",
       "117           0.9870  \n",
       "118           0.6597  \n",
       "119           0.0000  "
      ]
     },
     "execution_count": 174,
     "metadata": {},
     "output_type": "execute_result"
    }
   ],
   "source": [
    "Data.tail(10)\n"
   ]
  },
  {
   "cell_type": "markdown",
   "id": "35e22808-5a94-4952-912d-fc49f5811fb6",
   "metadata": {},
   "source": [
    "As we can clearly see, the tweets lie between the time period \"2022-03-04\" and \"2022-09-15\". \n",
    "So we were able to manually divide the dataset into training and test set, allocating approximately 80% for training and 20% for evaluation."
   ]
  },
  {
   "cell_type": "code",
   "execution_count": 175,
   "id": "0f84561e-840d-4a63-9008-62bc7fd84bd2",
   "metadata": {},
   "outputs": [
    {
     "data": {
      "text/plain": [
       "(31, 4)"
      ]
     },
     "execution_count": 175,
     "metadata": {},
     "output_type": "execute_result"
    }
   ],
   "source": [
    "Data.index = Data['Date']\n",
    "train_data_start = '2022-04-03'\n",
    "train_data_end = '2022-08-14'\n",
    "test_data_start = '2022-08-15'\n",
    "test_data_end = '2022-09-15'\n",
    "train = Data.loc[train_data_start : train_data_end, : ]\n",
    "test = Data.loc[test_data_start:test_data_end, : ]\n",
    "np.shape(test)"
   ]
  },
  {
   "cell_type": "markdown",
   "id": "eb364f6a-f0f7-48cd-bb4c-95f3a5f38974",
   "metadata": {},
   "source": [
    "After that, we created a 2D array that will store the Negative and Positive sentiment for Training and Testing datasets."
   ]
  },
  {
   "cell_type": "code",
   "execution_count": 176,
   "id": "be7586d4-f85a-423b-a18e-f2cb8d68bfad",
   "metadata": {},
   "outputs": [],
   "source": [
    "#for training dataset\n",
    "list_of_sentiments_score = []\n",
    "for date, row in train.T.iteritems():\n",
    "    sentiment_score = np.asarray([Data.loc[date, 'sentiment_score']])\n",
    "    list_of_sentiments_score.append(sentiment_score)\n",
    "numpy_dataframe_train = np.asarray(list_of_sentiments_score)\n"
   ]
  },
  {
   "cell_type": "code",
   "execution_count": 177,
   "id": "87a13748-c18f-40f7-9bac-f0667f5d16bb",
   "metadata": {},
   "outputs": [],
   "source": [
    "#for Testing dataset.\n",
    "list_of_sentiments_score = []\n",
    "for date, row in test.T.iteritems():\n",
    "    sentiment_score = np.asarray([Data.loc[date, 'sentiment_score']])\n",
    "    list_of_sentiments_score.append(sentiment_score)\n",
    "numpy_dataframe_test = np.asarray(list_of_sentiments_score)\n"
   ]
  },
  {
   "cell_type": "markdown",
   "id": "0a79dd34-931a-4de3-a0fd-11f8491a7dff",
   "metadata": {},
   "source": [
    "We also made two dataframes for Training and Testing \"Closing prices\"."
   ]
  },
  {
   "cell_type": "code",
   "execution_count": 178,
   "id": "15b0734a-97bc-4d3b-84aa-19203a1489f5",
   "metadata": {},
   "outputs": [],
   "source": [
    "y_train = pd.DataFrame(train['Close'])\n",
    "y_test = pd.DataFrame(test['Close'])"
   ]
  },
  {
   "cell_type": "markdown",
   "id": "b725496e-69a5-4d83-bfd1-94edadc2b8b7",
   "metadata": {},
   "source": [
    "We employed linear regression as our initial model choice. Linear regression is a commonly used model for establishing a simple linear relationship between variables. \n",
    "\n",
    "Fitting the sentiments(this acts as in independent value) and prices(this acts as a dependent value)."
   ]
  },
  {
   "cell_type": "code",
   "execution_count": 179,
   "id": "f3fc55ca-76cf-4e32-b13f-0eb81ce060dd",
   "metadata": {},
   "outputs": [],
   "source": [
    "#LinearRegression \n",
    "from sklearn import datasets, linear_model\n",
    "from sklearn.metrics import mean_squared_error, r2_score\n",
    "\n",
    "regr = linear_model.LinearRegression()\n",
    "regr.fit(numpy_dataframe_train, train['Close'])   \n",
    "prediction = regr.predict(numpy_dataframe_test)"
   ]
  },
  {
   "cell_type": "markdown",
   "id": "403eb178-a987-461d-87da-e92b59ee6597",
   "metadata": {},
   "source": [
    "Plotting the predicted closing price against the actual price of the test set:"
   ]
  },
  {
   "cell_type": "code",
   "execution_count": 180,
   "id": "a1b1af82-29cc-4c88-8059-aaa1768b1f96",
   "metadata": {},
   "outputs": [
    {
     "name": "stdout",
     "output_type": "stream",
     "text": [
      "R-squared Score: -1.1842249218634362\n"
     ]
    },
    {
     "data": {
      "image/png": "[encoded data removed]",
      "text/plain": [
       "<Figure size 432x288 with 1 Axes>"
      ]
     },
     "metadata": {
      "needs_background": "light"
     },
     "output_type": "display_data"
    }
   ],
   "source": [
    "import matplotlib.pyplot as plt\n",
    "%matplotlib inline\n",
    "idx = pd.date_range(test_data_start, test_data_end)\n",
    "idx = idx[idx != '2022-09-02']\n",
    "\n",
    "predictions_df = pd.DataFrame(data=prediction[0:], index = idx, columns=['Close'])\n",
    "predictions_df['Close'] = predictions_df['Close']\n",
    "predictions_df['actual_value'] = test['Close']\n",
    "predictions_df.columns = ['predicted_price', 'actual_price']\n",
    "predictions_df.plot()\n",
    "accuracy = r2_score(test['Close'], prediction)\n",
    "print(\"R-squared Score:\", accuracy)"
   ]
  },
  {
   "cell_type": "markdown",
   "id": "51658366-296a-465c-8b7a-529201c618ba",
   "metadata": {},
   "source": [
    "In our evaluation, we obtained a perplexing R-squared score of -1. This negative value suggests that the model's predictions were worse than simply using the mean value. This unexpected result might indicate that the linear regression model is not suitable for capturing the complex relationships between sentiment scores and stock market movements.\n",
    "\n",
    "In the hope of increasing the R-squared score, we tried the random forest regressor model:"
   ]
  },
  {
   "cell_type": "code",
   "execution_count": 181,
   "id": "8e1ca49c-69f8-4dbf-8452-1baf6c020983",
   "metadata": {},
   "outputs": [],
   "source": [
    "#RandromforestRegressor()\n",
    "\n",
    "from sklearn.tree import DecisionTreeRegressor\n",
    "from sklearn.ensemble import RandomForestRegressor\n",
    "\n",
    "rf = RandomForestRegressor()\n",
    "rf.fit(numpy_dataframe_train, train['Close'])\n",
    "prediction=rf.predict(numpy_dataframe_test)"
   ]
  },
  {
   "cell_type": "code",
   "execution_count": 182,
   "id": "03bf178b-c9a3-4abc-8af1-3176a10628d6",
   "metadata": {},
   "outputs": [
    {
     "name": "stdout",
     "output_type": "stream",
     "text": [
      "R-squared Score: -3.5156275918956554\n"
     ]
    },
    {
     "data": {
      "image/png": "[encoded data removed]",
      "text/plain": [
       "<Figure size 432x288 with 1 Axes>"
      ]
     },
     "metadata": {
      "needs_background": "light"
     },
     "output_type": "display_data"
    }
   ],
   "source": [
    "#Plot\n",
    "idx = pd.date_range(test_data_start, test_data_end)\n",
    "idx = idx[idx != '2022-09-02']\n",
    "\n",
    "\n",
    "predictions_df = pd.DataFrame(data=prediction[0:], index = idx, columns=['Close'] )\n",
    "predictions_df['actual_value'] = test['Close']\n",
    "predictions_df.columns = ['predicted_price', 'actual_price']\n",
    "predictions_df.plot()\n",
    "accuracy = rf.score(numpy_dataframe_test, test['Close'])\n",
    "print(\"R-squared Score:\", accuracy)"
   ]
  },
  {
   "cell_type": "markdown",
   "id": "784b24f5-6219-4e83-9f82-69f5fec652f1",
   "metadata": {},
   "source": [
    "Surprisingly, the evaluation of the random forest regressor yielded an even worse R-squared score of -4. This indicates that the model's predictions were significantly poorer than the linear regression model, suggesting that it struggled to capture the underlying patterns in the data.\n",
    " \n",
    "At the end, we turned to the Multi Layer perceptron model which can capture more complex patterns in the data."
   ]
  },
  {
   "cell_type": "code",
   "execution_count": 190,
   "id": "2212034f-4051-43b6-be1e-7b5d59cc0174",
   "metadata": {},
   "outputs": [
    {
     "name": "stderr",
     "output_type": "stream",
     "text": [
      "/anaconda/envs/py38_default/lib/python3.8/site-packages/sklearn/neural_network/_multilayer_perceptron.py:500: ConvergenceWarning: lbfgs failed to converge (status=1):\n",
      "STOP: TOTAL NO. of ITERATIONS REACHED LIMIT.\n",
      "\n",
      "Increase the number of iterations (max_iter) or scale the data as shown in:\n",
      "    https://scikit-learn.org/stable/modules/preprocessing.html\n",
      "  self.n_iter_ = _check_optimize_result(\"lbfgs\", opt_res, self.max_iter)\n"
     ]
    }
   ],
   "source": [
    "from sklearn.neural_network import MLPClassifier\n",
    "mlpc = MLPClassifier(hidden_layer_sizes=(10,), activation='relu', #'relu', the rectified linear unit function\n",
    "                      solver='lbfgs', alpha=0.005, learning_rate_init = 0.001, shuffle=False)\n",
    "                   \n",
    "#The ith element represents the number of Neutralrons in the ith\n",
    "mlpc.fit(numpy_dataframe_train, train['Close'])   \n",
    "prediction = mlpc.predict(numpy_dataframe_test)\n"
   ]
  },
  {
   "cell_type": "code",
   "execution_count": 191,
   "id": "6c76acef-c06e-4223-887a-46e2480491df",
   "metadata": {},
   "outputs": [
    {
     "name": "stdout",
     "output_type": "stream",
     "text": [
      "0.22580645161290322\n"
     ]
    },
    {
     "data": {
      "image/png": "[encoded data removed]",
      "text/plain": [
       "<Figure size 432x288 with 1 Axes>"
      ]
     },
     "metadata": {
      "needs_background": "light"
     },
     "output_type": "display_data"
    }
   ],
   "source": [
    "#plot\n",
    "idx = pd.date_range(test_data_start, test_data_end)\n",
    "idx = idx[idx != '2022-09-02']\n",
    "\n",
    "predictions_df = pd.DataFrame(data=prediction[0:], index = idx, columns=['adj_close_price'])\n",
    "\n",
    "predictions_df['actual_value'] = test['Close']\n",
    "predictions_df.columns = ['predicted_price', 'actual_price']\n",
    "predictions_df.plot()\n",
    "\n",
    "print(mlpc.score(numpy_dataframe_test, test['Close']))\n"
   ]
  },
  {
   "cell_type": "markdown",
   "id": "a883ec24-1eae-40d1-b859-0b120d432118",
   "metadata": {},
   "source": [
    "The evaluation of the MLP classifier yielded an R-squared score of 0.23, which although not substantially high, outperformed the previous models. This suggests that the MLP classifier was able to capture more of the underlying patterns in the sentiment scores and their relationship to stock market movements.\n",
    "\n",
    "### Model Optimization\n",
    "\n",
    "In order to even more increase the accuracy, we tried different methods on the MLP classifier, the first one being cross-validation: "
   ]
  },
  {
   "cell_type": "code",
   "execution_count": 192,
   "id": "28e8e89c-ce22-48fe-ba31-ffbfe6538be7",
   "metadata": {},
   "outputs": [
    {
     "name": "stderr",
     "output_type": "stream",
     "text": [
      "/anaconda/envs/py38_default/lib/python3.8/site-packages/sklearn/model_selection/_split.py:666: UserWarning: The least populated class in y has only 1 members, which is less than n_splits=5.\n",
      "  warnings.warn((\"The least populated class in y has only %d\"\n"
     ]
    },
    {
     "name": "stdout",
     "output_type": "stream",
     "text": [
      "Cross-validated scores: [0.22222222 0.22222222 0.11111111 0.16666667 0.17647059]\n",
      "Average accuracy: 0.17973856209150327\n"
     ]
    }
   ],
   "source": [
    "from sklearn.neural_network import MLPClassifier\n",
    "from sklearn.model_selection import cross_val_score\n",
    "\n",
    "mlpc = MLPClassifier(hidden_layer_sizes=(10,), activation='relu',\n",
    "                     solver='lbfgs', alpha=0.005, learning_rate_init=0.001, shuffle=False, max_iter= 10000)\n",
    "\n",
    "# Perform cross-validation\n",
    "scores = cross_val_score(mlpc, numpy_dataframe_train, train['Close'], cv=5)  # cv=5 for 5-fold cross-validation\n",
    "\n",
    "# Print the cross-validated scores\n",
    "print(\"Cross-validated scores:\", scores)\n",
    "print(\"Average accuracy:\", scores.mean())"
   ]
  },
  {
   "cell_type": "markdown",
   "id": "3b732b84-d895-430e-a74d-4639213307ea",
   "metadata": {},
   "source": [
    "We can observe a relatively lower accuracy after applying cross-validation compared to the accuracy obtained from a single train-test split. It indicates that the model's performance is more reliable and generalized, and it is less likely to be biased towards a specific train-test split.\n",
    "\n",
    "As the cross-validation didn't work, we tried ensemble methods on the MLP classifier: Bagging\n"
   ]
  },
  {
   "cell_type": "code",
   "execution_count": 194,
   "id": "6fbaac36-89d1-49ab-8c65-18863b5161c9",
   "metadata": {},
   "outputs": [
    {
     "name": "stdout",
     "output_type": "stream",
     "text": [
      "Accuracy: 0.22580645161290322\n"
     ]
    }
   ],
   "source": [
    "from sklearn.ensemble import BaggingClassifier\n",
    "from sklearn.neural_network import MLPClassifier\n",
    "from sklearn.metrics import accuracy_score\n",
    "\n",
    "base_model = MLPClassifier(hidden_layer_sizes=(10,), activation='relu', solver='lbfgs', alpha=0.005, learning_rate_init=0.001, shuffle=False,\n",
    "                               max_iter=100000)\n",
    "\n",
    "bagging_model = BaggingClassifier(base_model, n_estimators=10, random_state=42)\n",
    "bagging_model.fit(numpy_dataframe_train, train['Close'])\n",
    "prediction = bagging_model.predict(numpy_dataframe_test)\n",
    "# Evaluate the predictions\n",
    "accuracy = accuracy_score(test['Close'], prediction)\n",
    "print(\"Accuracy:\", accuracy)"
   ]
  },
  {
   "cell_type": "markdown",
   "id": "d50b89d4-9707-42a1-b6be-bcb9b09b5409",
   "metadata": {},
   "source": [
    "The accuracy of the MLPClassifier remained the same after applying bagging. Since bagging usually helps to reduce overfitting and improve the stability of the predictions, the fact that it didn't affect the accuracy of the data indicates that the MLPClassifier already performs well on its own and that the dataset is not very prone to overfitting."
   ]
  },
  {
   "cell_type": "markdown",
   "id": "a826d662-916b-4972-b5ef-748e8441f898",
   "metadata": {},
   "source": [
    "### Conclusion: \n",
    "Overall, our initial attempts with linear regression and random forest regressor proved to be less effective in capturing the complexities of the data. However, the MLP classifier showed promise by achieving a relatively better performance. It is important to note that further analysis and fine-tuning of the models, as well as consideration of additional factors and alternative models, may be necessary to improve the accuracy of stock market prediction using sentiment scores.\n"
   ]
  },
  {
   "cell_type": "code",
   "execution_count": null,
   "id": "9788258f-101c-4dcb-b487-3bd48efd47a2",
   "metadata": {},
   "outputs": [],
   "source": []
  }
 ],
 "metadata": {
  "kernelspec": {
   "display_name": "Python 3",
   "language": "python",
   "name": "python3"
  },
  "language_info": {
   "codemirror_mode": {
    "name": "ipython",
    "version": 3
   },
   "file_extension": ".py",
   "mimetype": "text/x-python",
   "name": "python",
   "nbconvert_exporter": "python",
   "pygments_lexer": "ipython3",
   "version": "3.8.10"
  }
 },
 "nbformat": 4,
 "nbformat_minor": 5
}
